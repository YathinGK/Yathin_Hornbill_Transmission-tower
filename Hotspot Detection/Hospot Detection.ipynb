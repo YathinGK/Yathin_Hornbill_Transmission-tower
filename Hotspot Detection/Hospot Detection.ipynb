{
 "cells": [
  {
   "cell_type": "code",
   "execution_count": 6,
   "id": "8cc74983-1831-448d-aa2b-59fcfe5e77e0",
   "metadata": {},
   "outputs": [
    {
     "name": "stdout",
     "output_type": "stream",
     "text": [
      "🔍 Processing: DJI_20250212114121_0033_T.JPG\n",
      "🔍 Processing: DJI_20250212114138_0034_T.JPG\n",
      "🔍 Processing: DJI_20250212114151_0035_T.JPG\n",
      "🔍 Processing: DJI_20250212114156_0036_T.JPG\n",
      "🔍 Processing: DJI_20250212114203_0037_T.JPG\n",
      "🔍 Processing: DJI_20250212114208_0038_T.JPG\n",
      "🔍 Processing: DJI_20250212114219_0039_T.JPG\n",
      "🔍 Processing: DJI_20250212114232_0040_T.JPG\n",
      "🔍 Processing: DJI_20250212114241_0041_T.JPG\n",
      "🔍 Processing: DJI_20250212114244_0042_T.JPG\n",
      "🔍 Processing: DJI_20250212114255_0043_T.JPG\n",
      "🔍 Processing: DJI_20250212114307_0044_T.JPG\n",
      "🔍 Processing: DJI_20250212114313_0045_T.JPG\n",
      "🔍 Processing: DJI_20250212114322_0046_T.JPG\n",
      "🔍 Processing: DJI_20250212114329_0047_T.JPG\n",
      "🔍 Processing: DJI_20250212114339_0048_T.JPG\n",
      "🔍 Processing: DJI_20250212114348_0049_T.JPG\n",
      "🔍 Processing: DJI_20250212114357_0050_T.JPG\n",
      "🔍 Processing: DJI_20250212114401_0051_T.JPG\n",
      "🔍 Processing: DJI_20250212114404_0052_T.JPG\n",
      "🔍 Processing: DJI_20250212114418_0053_T.JPG\n",
      "🔍 Processing: DJI_20250212114438_0054_T.JPG\n",
      "🔍 Processing: DJI_20250212114441_0055_T.JPG\n",
      "🔍 Processing: DJI_20250212114449_0056_T.JPG\n",
      "✅ All images processed and saved in: hotspot_detected_images\n"
     ]
    }
   ],
   "source": [
    "import cv2\n",
    "import numpy as np\n",
    "import os\n",
    "\n",
    "# Paths\n",
    "INPUT_FOLDER = \"thermal_images\"  # Folder containing thermal images\n",
    "OUTPUT_FOLDER = \"hotspot_detected_images\"  # Folder to store processed images\n",
    "\n",
    "# Ensure output directory exists\n",
    "os.makedirs(OUTPUT_FOLDER, exist_ok=True)\n",
    "\n",
    "def detect_hotspots(image_path, output_path):\n",
    "    # Load the image\n",
    "    img = cv2.imread(image_path)\n",
    "\n",
    "    if img is None:\n",
    "        print(f\"❌ Error: Could not load image '{image_path}'\")\n",
    "        return\n",
    "    \n",
    "    # Convert image to grayscale\n",
    "    gray = cv2.cvtColor(img, cv2.COLOR_BGR2GRAY)\n",
    "\n",
    "    # Apply GaussianBlur to smooth the image\n",
    "    blurred = cv2.GaussianBlur(gray, (5, 5), 0)\n",
    "\n",
    "    # Use thresholding to isolate bright regions\n",
    "    _, thresholded = cv2.threshold(blurred, 200, 255, cv2.THRESH_BINARY)\n",
    "\n",
    "    # Find contours of the bright spots\n",
    "    contours, _ = cv2.findContours(thresholded, cv2.RETR_EXTERNAL, cv2.CHAIN_APPROX_SIMPLE)\n",
    "\n",
    "    # Draw green bounding rectangles around detected hotspots\n",
    "    for contour in contours:\n",
    "        if cv2.contourArea(contour) > 50:  # Ignore small areas (noise)\n",
    "            x, y, w, h = cv2.boundingRect(contour)\n",
    "            cv2.rectangle(img, (x, y), (x + w, y + h), (0, 255, 0), 2)  # Green rectangle\n",
    "\n",
    "    # Save the processed image\n",
    "    cv2.imwrite(output_path, img)\n",
    "\n",
    "def process_folder(input_folder, output_folder):\n",
    "    # Process all images in the input folder\n",
    "    for filename in os.listdir(input_folder):\n",
    "        if filename.lower().endswith((\".jpg\", \".jpeg\", \".png\")):\n",
    "            input_path = os.path.join(input_folder, filename)\n",
    "            output_path = os.path.join(output_folder, filename)\n",
    "\n",
    "            print(f\"🔍 Processing: {filename}\")\n",
    "            detect_hotspots(input_path, output_path)\n",
    "\n",
    "    print(\"✅ All images processed and saved in:\", output_folder)\n",
    "\n",
    "# Run the script\n",
    "process_folder(INPUT_FOLDER, OUTPUT_FOLDER)\n"
   ]
  },
  {
   "cell_type": "code",
   "execution_count": null,
   "id": "588d38b2-3cd3-4aaf-95bf-50b15c24fec2",
   "metadata": {},
   "outputs": [],
   "source": []
  },
  {
   "cell_type": "code",
   "execution_count": null,
   "id": "ba80dd82-f343-4f68-b1b8-c744fb0e584f",
   "metadata": {},
   "outputs": [],
   "source": []
  }
 ],
 "metadata": {
  "kernelspec": {
   "display_name": "Python 3 (ipykernel)",
   "language": "python",
   "name": "python3"
  },
  "language_info": {
   "codemirror_mode": {
    "name": "ipython",
    "version": 3
   },
   "file_extension": ".py",
   "mimetype": "text/x-python",
   "name": "python",
   "nbconvert_exporter": "python",
   "pygments_lexer": "ipython3",
   "version": "3.11.7"
  }
 },
 "nbformat": 4,
 "nbformat_minor": 5
}
